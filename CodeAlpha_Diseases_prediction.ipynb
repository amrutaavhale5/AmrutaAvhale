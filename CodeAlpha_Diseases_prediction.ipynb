{
  "nbformat": 4,
  "nbformat_minor": 0,
  "metadata": {
    "colab": {
      "provenance": [],
      "authorship_tag": "ABX9TyMXHLPQ5yvp1q0Bz8lg3hAm",
      "include_colab_link": true
    },
    "kernelspec": {
      "name": "python3",
      "display_name": "Python 3"
    },
    "language_info": {
      "name": "python"
    }
  },
  "cells": [
    {
      "cell_type": "markdown",
      "metadata": {
        "id": "view-in-github",
        "colab_type": "text"
      },
      "source": [
        "<a href=\"https://colab.research.google.com/github/amrutaavhale5/AmrutaAvhale/blob/main/CodeAlpha_Diseases_prediction.ipynb\" target=\"_parent\"><img src=\"https://colab.research.google.com/assets/colab-badge.svg\" alt=\"Open In Colab\"/></a>"
      ]
    },
    {
      "cell_type": "code",
      "execution_count": 1,
      "metadata": {
        "id": "rEp9Kgwhio6L"
      },
      "outputs": [],
      "source": [
        "import pandas as pd\n",
        "from sklearn.model_selection import train_test_split\n",
        "from sklearn.preprocessing import StandardScaler\n",
        "from sklearn.metrics import accuracy_score, confusion_matrix, classification_report"
      ]
    },
    {
      "cell_type": "code",
      "source": [
        "from sklearn.svm import SVC\n",
        "from sklearn.linear_model import LogisticRegression\n",
        "from sklearn.ensemble import RandomForestClassifier\n",
        "import xgboost as xgb"
      ],
      "metadata": {
        "id": "S4Dvcuv6kBdc"
      },
      "execution_count": 2,
      "outputs": []
    },
    {
      "cell_type": "markdown",
      "source": [],
      "metadata": {
        "id": "cBG45Tz7kMUR"
      }
    },
    {
      "cell_type": "markdown",
      "source": [
        "Load data: CSV dataset with features like symptoms, age, blood test results, etc."
      ],
      "metadata": {
        "id": "MTd6niJii0wV"
      }
    },
    {
      "cell_type": "code",
      "source": [
        "data = pd.read_csv('heart.csv')"
      ],
      "metadata": {
        "id": "yepZ9AYbkV9y"
      },
      "execution_count": 4,
      "outputs": []
    },
    {
      "cell_type": "code",
      "source": [
        "print(data.head())\n",
        "print(data.info())\n",
        "print(data.describe())"
      ],
      "metadata": {
        "colab": {
          "base_uri": "https://localhost:8080/"
        },
        "id": "_ezu2ic2mfY7",
        "outputId": "d0eb7535-3abd-4567-8a89-32a3c6e1dd49"
      },
      "execution_count": 5,
      "outputs": [
        {
          "output_type": "stream",
          "name": "stdout",
          "text": [
            "   age  sex  cp  trestbps  chol  fbs  restecg  thalach  exang  oldpeak  slope  \\\n",
            "0   67    1   3       112   442    0        0      181      0      5.2      2   \n",
            "1   57    1   0       183   429    1        2      187      1      4.8      2   \n",
            "2   43    1   2       160   272    0        1      139      0      0.4      1   \n",
            "3   71    0   1       112   129    0        1      169      1      0.3      1   \n",
            "4   36    0   0       113   160    1        1       95      1      3.8      0   \n",
            "\n",
            "   ca  thal  target  \n",
            "0   0     1       1  \n",
            "1   0     3       1  \n",
            "2   0     3       0  \n",
            "3   0     1       1  \n",
            "4   2     1       0  \n",
            "<class 'pandas.core.frame.DataFrame'>\n",
            "RangeIndex: 100 entries, 0 to 99\n",
            "Data columns (total 14 columns):\n",
            " #   Column    Non-Null Count  Dtype  \n",
            "---  ------    --------------  -----  \n",
            " 0   age       100 non-null    int64  \n",
            " 1   sex       100 non-null    int64  \n",
            " 2   cp        100 non-null    int64  \n",
            " 3   trestbps  100 non-null    int64  \n",
            " 4   chol      100 non-null    int64  \n",
            " 5   fbs       100 non-null    int64  \n",
            " 6   restecg   100 non-null    int64  \n",
            " 7   thalach   100 non-null    int64  \n",
            " 8   exang     100 non-null    int64  \n",
            " 9   oldpeak   100 non-null    float64\n",
            " 10  slope     100 non-null    int64  \n",
            " 11  ca        100 non-null    int64  \n",
            " 12  thal      100 non-null    int64  \n",
            " 13  target    100 non-null    int64  \n",
            "dtypes: float64(1), int64(13)\n",
            "memory usage: 11.1 KB\n",
            "None\n",
            "              age         sex          cp    trestbps        chol         fbs  \\\n",
            "count  100.000000  100.000000  100.000000  100.000000  100.000000  100.000000   \n",
            "mean    51.920000    0.440000    1.520000  144.010000  337.140000    0.530000   \n",
            "std     14.054497    0.498888    1.167575   31.798131  122.554463    0.501614   \n",
            "min     29.000000    0.000000    0.000000   94.000000  129.000000    0.000000   \n",
            "25%     41.500000    0.000000    0.000000  116.750000  240.500000    0.000000   \n",
            "50%     52.000000    0.000000    2.000000  141.000000  316.500000    1.000000   \n",
            "75%     64.250000    1.000000    3.000000  173.500000  441.250000    1.000000   \n",
            "max     76.000000    1.000000    3.000000  198.000000  556.000000    1.000000   \n",
            "\n",
            "          restecg    thalach       exang     oldpeak       slope          ca  \\\n",
            "count  100.000000  100.00000  100.000000  100.000000  100.000000  100.000000   \n",
            "mean     0.880000  137.86000    0.480000    2.955000    0.980000    1.490000   \n",
            "std      0.844232   39.08396    0.502117    1.750346    0.803779    1.087068   \n",
            "min      0.000000   71.00000    0.000000    0.000000    0.000000    0.000000   \n",
            "25%      0.000000  105.75000    0.000000    1.475000    0.000000    1.000000   \n",
            "50%      1.000000  135.00000    0.000000    3.050000    1.000000    2.000000   \n",
            "75%      2.000000  175.00000    1.000000    4.300000    2.000000    2.000000   \n",
            "max      2.000000  201.00000    1.000000    6.200000    2.000000    3.000000   \n",
            "\n",
            "             thal      target  \n",
            "count  100.000000  100.000000  \n",
            "mean     1.940000    0.490000  \n",
            "std      0.850668    0.502418  \n",
            "min      1.000000    0.000000  \n",
            "25%      1.000000    0.000000  \n",
            "50%      2.000000    0.000000  \n",
            "75%      3.000000    1.000000  \n",
            "max      3.000000    1.000000  \n"
          ]
        }
      ]
    },
    {
      "cell_type": "code",
      "source": [
        "##Preprocess data: Separate features and target, scale features for better performance.\n",
        "\n",
        "X = data.drop('target', axis=1)  # Features\n",
        "y = data['target']"
      ],
      "metadata": {
        "id": "c9RNuNRunTmh"
      },
      "execution_count": 6,
      "outputs": []
    },
    {
      "cell_type": "code",
      "source": [
        "# 4. Split train and test data\n",
        "X_train, X_test, y_train, y_test = train_test_split(X, y, test_size=0.2, random_state=42)"
      ],
      "metadata": {
        "id": "B7rHuuk-ncXW"
      },
      "execution_count": 8,
      "outputs": []
    },
    {
      "cell_type": "code",
      "source": [
        "# 5. Feature scaling (important for SVM)\n",
        "scaler = StandardScaler()\n",
        "X_train = scaler.fit_transform(X_train)\n",
        "X_test = scaler.transform(X_test)\n"
      ],
      "metadata": {
        "id": "a0OKI38anhZD"
      },
      "execution_count": 9,
      "outputs": []
    },
    {
      "cell_type": "code",
      "source": [
        "#6. Initialize Model\n",
        "\n",
        "models = {\n",
        "    'SVM': SVC(kernel='linear', random_state=42),\n",
        "    'Logistic Regression': LogisticRegression(random_state=42),\n",
        "    'Random Forest': RandomForestClassifier(n_estimators=100, random_state=42),\n",
        "    'XGBoost': xgb.XGBClassifier(use_label_encoder=False, eval_metric='logloss', random_state=42)\n",
        "}"
      ],
      "metadata": {
        "id": "J6jlupdxnxO-"
      },
      "execution_count": 10,
      "outputs": []
    },
    {
      "cell_type": "code",
      "source": [
        "# 7. Train, predict, and evaluate\n",
        "\n",
        "for name, model in models.items():\n",
        "    model.fit(X_train, y_train)\n",
        "    y_pred = model.predict(X_test)\n",
        "    print(f\"\\n--- {name} ---\")\n",
        "    print(\"Accuracy:\", accuracy_score(y_test, y_pred))\n",
        "    print(\"Confusion Matrix:\\n\", confusion_matrix(y_test, y_pred))\n",
        "    print(\"Classification Report:\\n\", classification_report(y_test, y_pred))"
      ],
      "metadata": {
        "colab": {
          "base_uri": "https://localhost:8080/"
        },
        "id": "t5FRUdMWn9IQ",
        "outputId": "6c9144c4-bf23-4d73-cea3-c13d9c7d28b6"
      },
      "execution_count": 11,
      "outputs": [
        {
          "output_type": "stream",
          "name": "stdout",
          "text": [
            "\n",
            "--- SVM ---\n",
            "Accuracy: 0.7\n",
            "Confusion Matrix:\n",
            " [[7 4]\n",
            " [2 7]]\n",
            "Classification Report:\n",
            "               precision    recall  f1-score   support\n",
            "\n",
            "           0       0.78      0.64      0.70        11\n",
            "           1       0.64      0.78      0.70         9\n",
            "\n",
            "    accuracy                           0.70        20\n",
            "   macro avg       0.71      0.71      0.70        20\n",
            "weighted avg       0.71      0.70      0.70        20\n",
            "\n",
            "\n",
            "--- Logistic Regression ---\n",
            "Accuracy: 0.65\n",
            "Confusion Matrix:\n",
            " [[7 4]\n",
            " [3 6]]\n",
            "Classification Report:\n",
            "               precision    recall  f1-score   support\n",
            "\n",
            "           0       0.70      0.64      0.67        11\n",
            "           1       0.60      0.67      0.63         9\n",
            "\n",
            "    accuracy                           0.65        20\n",
            "   macro avg       0.65      0.65      0.65        20\n",
            "weighted avg       0.65      0.65      0.65        20\n",
            "\n",
            "\n",
            "--- Random Forest ---\n",
            "Accuracy: 0.7\n",
            "Confusion Matrix:\n",
            " [[8 3]\n",
            " [3 6]]\n",
            "Classification Report:\n",
            "               precision    recall  f1-score   support\n",
            "\n",
            "           0       0.73      0.73      0.73        11\n",
            "           1       0.67      0.67      0.67         9\n",
            "\n",
            "    accuracy                           0.70        20\n",
            "   macro avg       0.70      0.70      0.70        20\n",
            "weighted avg       0.70      0.70      0.70        20\n",
            "\n",
            "\n",
            "--- XGBoost ---\n",
            "Accuracy: 0.7\n",
            "Confusion Matrix:\n",
            " [[9 2]\n",
            " [4 5]]\n",
            "Classification Report:\n",
            "               precision    recall  f1-score   support\n",
            "\n",
            "           0       0.69      0.82      0.75        11\n",
            "           1       0.71      0.56      0.62         9\n",
            "\n",
            "    accuracy                           0.70        20\n",
            "   macro avg       0.70      0.69      0.69        20\n",
            "weighted avg       0.70      0.70      0.69        20\n",
            "\n"
          ]
        },
        {
          "output_type": "stream",
          "name": "stderr",
          "text": [
            "/usr/local/lib/python3.12/dist-packages/xgboost/training.py:183: UserWarning: [17:29:51] WARNING: /workspace/src/learner.cc:738: \n",
            "Parameters: { \"use_label_encoder\" } are not used.\n",
            "\n",
            "  bst.update(dtrain, iteration=i, fobj=obj)\n"
          ]
        }
      ]
    }
  ]
}